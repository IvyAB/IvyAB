{
 "cells": [
  {
   "cell_type": "markdown",
   "id": "27c2f810",
   "metadata": {
    "papermill": {
     "duration": 0.029433,
     "end_time": "2022-04-15T18:45:26.352346",
     "exception": false,
     "start_time": "2022-04-15T18:45:26.322913",
     "status": "completed"
    },
    "tags": []
   },
   "source": [
    "**This notebook is an exercise in the [Data Cleaning](https://www.kaggle.com/learn/data-cleaning) course.  You can reference the tutorial at [this link](https://www.kaggle.com/alexisbcook/handling-missing-values).**\n",
    "\n",
    "---\n"
   ]
  },
  {
   "cell_type": "markdown",
   "id": "3afa9cfc",
   "metadata": {
    "papermill": {
     "duration": 0.02865,
     "end_time": "2022-04-15T18:45:26.409781",
     "exception": false,
     "start_time": "2022-04-15T18:45:26.381131",
     "status": "completed"
    },
    "tags": []
   },
   "source": [
    "In this exercise, you'll apply what you learned in the **Handling missing values** tutorial.\n",
    "\n",
    "# Setup\n",
    "\n",
    "The questions below will give you feedback on your work. Run the following cell to set up the feedback system."
   ]
  },
  {
   "cell_type": "code",
   "execution_count": 1,
   "id": "b6121960",
   "metadata": {
    "execution": {
     "iopub.execute_input": "2022-04-15T18:45:26.468282Z",
     "iopub.status.busy": "2022-04-15T18:45:26.467724Z",
     "iopub.status.idle": "2022-04-15T18:45:31.594054Z",
     "shell.execute_reply": "2022-04-15T18:45:31.593136Z"
    },
    "papermill": {
     "duration": 5.158581,
     "end_time": "2022-04-15T18:45:31.596498",
     "exception": false,
     "start_time": "2022-04-15T18:45:26.437917",
     "status": "completed"
    },
    "tags": []
   },
   "outputs": [
    {
     "name": "stderr",
     "output_type": "stream",
     "text": [
      "/opt/conda/lib/python3.7/site-packages/ipykernel_launcher.py:3: DtypeWarning: Columns (22,32) have mixed types.Specify dtype option on import or set low_memory=False.\n",
      "  This is separate from the ipykernel package so we can avoid doing imports until\n"
     ]
    },
    {
     "name": "stdout",
     "output_type": "stream",
     "text": [
      "Setup Complete\n"
     ]
    }
   ],
   "source": [
    "from learntools.core import binder\n",
    "binder.bind(globals())\n",
    "from learntools.data_cleaning.ex1 import *\n",
    "print(\"Setup Complete\")"
   ]
  },
  {
   "cell_type": "markdown",
   "id": "5ec80608",
   "metadata": {
    "papermill": {
     "duration": 0.029482,
     "end_time": "2022-04-15T18:45:31.655607",
     "exception": false,
     "start_time": "2022-04-15T18:45:31.626125",
     "status": "completed"
    },
    "tags": []
   },
   "source": [
    "# 1) Take a first look at the data\n",
    "\n",
    "Run the next code cell to load in the libraries and dataset you'll use to complete the exercise."
   ]
  },
  {
   "cell_type": "code",
   "execution_count": 2,
   "id": "129f2cb9",
   "metadata": {
    "execution": {
     "iopub.execute_input": "2022-04-15T18:45:31.715847Z",
     "iopub.status.busy": "2022-04-15T18:45:31.715244Z",
     "iopub.status.idle": "2022-04-15T18:45:33.481188Z",
     "shell.execute_reply": "2022-04-15T18:45:33.480097Z"
    },
    "papermill": {
     "duration": 1.79928,
     "end_time": "2022-04-15T18:45:33.483748",
     "exception": false,
     "start_time": "2022-04-15T18:45:31.684468",
     "status": "completed"
    },
    "tags": []
   },
   "outputs": [
    {
     "name": "stderr",
     "output_type": "stream",
     "text": [
      "/opt/conda/lib/python3.7/site-packages/IPython/core/interactiveshell.py:3524: DtypeWarning: Columns (22,32) have mixed types.Specify dtype option on import or set low_memory=False.\n",
      "  exec(code_obj, self.user_global_ns, self.user_ns)\n"
     ]
    }
   ],
   "source": [
    "# modules we'll use\n",
    "import pandas as pd\n",
    "import numpy as np\n",
    "\n",
    "# read in all our data\n",
    "sf_permits = pd.read_csv(\"../input/building-permit-applications-data/Building_Permits.csv\")\n",
    "\n",
    "# set seed for reproducibility\n",
    "np.random.seed(0) "
   ]
  },
  {
   "cell_type": "code",
   "execution_count": 3,
   "id": "1e78c8be",
   "metadata": {
    "execution": {
     "iopub.execute_input": "2022-04-15T18:45:33.544212Z",
     "iopub.status.busy": "2022-04-15T18:45:33.543929Z",
     "iopub.status.idle": "2022-04-15T18:45:33.578448Z",
     "shell.execute_reply": "2022-04-15T18:45:33.577585Z"
    },
    "papermill": {
     "duration": 0.067536,
     "end_time": "2022-04-15T18:45:33.580950",
     "exception": false,
     "start_time": "2022-04-15T18:45:33.513414",
     "status": "completed"
    },
    "tags": []
   },
   "outputs": [
    {
     "data": {
      "text/html": [
       "<div>\n",
       "<style scoped>\n",
       "    .dataframe tbody tr th:only-of-type {\n",
       "        vertical-align: middle;\n",
       "    }\n",
       "\n",
       "    .dataframe tbody tr th {\n",
       "        vertical-align: top;\n",
       "    }\n",
       "\n",
       "    .dataframe thead th {\n",
       "        text-align: right;\n",
       "    }\n",
       "</style>\n",
       "<table border=\"1\" class=\"dataframe\">\n",
       "  <thead>\n",
       "    <tr style=\"text-align: right;\">\n",
       "      <th></th>\n",
       "      <th>Permit Number</th>\n",
       "      <th>Permit Type</th>\n",
       "      <th>Permit Type Definition</th>\n",
       "      <th>Permit Creation Date</th>\n",
       "      <th>Block</th>\n",
       "      <th>Lot</th>\n",
       "      <th>Street Number</th>\n",
       "      <th>Street Number Suffix</th>\n",
       "      <th>Street Name</th>\n",
       "      <th>Street Suffix</th>\n",
       "      <th>...</th>\n",
       "      <th>Existing Construction Type</th>\n",
       "      <th>Existing Construction Type Description</th>\n",
       "      <th>Proposed Construction Type</th>\n",
       "      <th>Proposed Construction Type Description</th>\n",
       "      <th>Site Permit</th>\n",
       "      <th>Supervisor District</th>\n",
       "      <th>Neighborhoods - Analysis Boundaries</th>\n",
       "      <th>Zipcode</th>\n",
       "      <th>Location</th>\n",
       "      <th>Record ID</th>\n",
       "    </tr>\n",
       "  </thead>\n",
       "  <tbody>\n",
       "    <tr>\n",
       "      <th>0</th>\n",
       "      <td>201505065519</td>\n",
       "      <td>4</td>\n",
       "      <td>sign - erect</td>\n",
       "      <td>05/06/2015</td>\n",
       "      <td>0326</td>\n",
       "      <td>023</td>\n",
       "      <td>140</td>\n",
       "      <td>NaN</td>\n",
       "      <td>Ellis</td>\n",
       "      <td>St</td>\n",
       "      <td>...</td>\n",
       "      <td>3.0</td>\n",
       "      <td>constr type 3</td>\n",
       "      <td>NaN</td>\n",
       "      <td>NaN</td>\n",
       "      <td>NaN</td>\n",
       "      <td>3.0</td>\n",
       "      <td>Tenderloin</td>\n",
       "      <td>94102.0</td>\n",
       "      <td>(37.785719256680785, -122.40852313194863)</td>\n",
       "      <td>1380611233945</td>\n",
       "    </tr>\n",
       "    <tr>\n",
       "      <th>1</th>\n",
       "      <td>201604195146</td>\n",
       "      <td>4</td>\n",
       "      <td>sign - erect</td>\n",
       "      <td>04/19/2016</td>\n",
       "      <td>0306</td>\n",
       "      <td>007</td>\n",
       "      <td>440</td>\n",
       "      <td>NaN</td>\n",
       "      <td>Geary</td>\n",
       "      <td>St</td>\n",
       "      <td>...</td>\n",
       "      <td>3.0</td>\n",
       "      <td>constr type 3</td>\n",
       "      <td>NaN</td>\n",
       "      <td>NaN</td>\n",
       "      <td>NaN</td>\n",
       "      <td>3.0</td>\n",
       "      <td>Tenderloin</td>\n",
       "      <td>94102.0</td>\n",
       "      <td>(37.78733980600732, -122.41063199757738)</td>\n",
       "      <td>1420164406718</td>\n",
       "    </tr>\n",
       "    <tr>\n",
       "      <th>2</th>\n",
       "      <td>201605278609</td>\n",
       "      <td>3</td>\n",
       "      <td>additions alterations or repairs</td>\n",
       "      <td>05/27/2016</td>\n",
       "      <td>0595</td>\n",
       "      <td>203</td>\n",
       "      <td>1647</td>\n",
       "      <td>NaN</td>\n",
       "      <td>Pacific</td>\n",
       "      <td>Av</td>\n",
       "      <td>...</td>\n",
       "      <td>1.0</td>\n",
       "      <td>constr type 1</td>\n",
       "      <td>1.0</td>\n",
       "      <td>constr type 1</td>\n",
       "      <td>NaN</td>\n",
       "      <td>3.0</td>\n",
       "      <td>Russian Hill</td>\n",
       "      <td>94109.0</td>\n",
       "      <td>(37.7946573324287, -122.42232562979227)</td>\n",
       "      <td>1424856504716</td>\n",
       "    </tr>\n",
       "    <tr>\n",
       "      <th>3</th>\n",
       "      <td>201611072166</td>\n",
       "      <td>8</td>\n",
       "      <td>otc alterations permit</td>\n",
       "      <td>11/07/2016</td>\n",
       "      <td>0156</td>\n",
       "      <td>011</td>\n",
       "      <td>1230</td>\n",
       "      <td>NaN</td>\n",
       "      <td>Pacific</td>\n",
       "      <td>Av</td>\n",
       "      <td>...</td>\n",
       "      <td>5.0</td>\n",
       "      <td>wood frame (5)</td>\n",
       "      <td>5.0</td>\n",
       "      <td>wood frame (5)</td>\n",
       "      <td>NaN</td>\n",
       "      <td>3.0</td>\n",
       "      <td>Nob Hill</td>\n",
       "      <td>94109.0</td>\n",
       "      <td>(37.79595867909168, -122.41557405519474)</td>\n",
       "      <td>1443574295566</td>\n",
       "    </tr>\n",
       "    <tr>\n",
       "      <th>4</th>\n",
       "      <td>201611283529</td>\n",
       "      <td>6</td>\n",
       "      <td>demolitions</td>\n",
       "      <td>11/28/2016</td>\n",
       "      <td>0342</td>\n",
       "      <td>001</td>\n",
       "      <td>950</td>\n",
       "      <td>NaN</td>\n",
       "      <td>Market</td>\n",
       "      <td>St</td>\n",
       "      <td>...</td>\n",
       "      <td>3.0</td>\n",
       "      <td>constr type 3</td>\n",
       "      <td>NaN</td>\n",
       "      <td>NaN</td>\n",
       "      <td>NaN</td>\n",
       "      <td>6.0</td>\n",
       "      <td>Tenderloin</td>\n",
       "      <td>94102.0</td>\n",
       "      <td>(37.78315261897309, -122.40950883997789)</td>\n",
       "      <td>144548169992</td>\n",
       "    </tr>\n",
       "  </tbody>\n",
       "</table>\n",
       "<p>5 rows × 43 columns</p>\n",
       "</div>"
      ],
      "text/plain": [
       "  Permit Number  Permit Type            Permit Type Definition  \\\n",
       "0  201505065519            4                      sign - erect   \n",
       "1  201604195146            4                      sign - erect   \n",
       "2  201605278609            3  additions alterations or repairs   \n",
       "3  201611072166            8            otc alterations permit   \n",
       "4  201611283529            6                       demolitions   \n",
       "\n",
       "  Permit Creation Date Block  Lot  Street Number Street Number Suffix  \\\n",
       "0           05/06/2015  0326  023            140                  NaN   \n",
       "1           04/19/2016  0306  007            440                  NaN   \n",
       "2           05/27/2016  0595  203           1647                  NaN   \n",
       "3           11/07/2016  0156  011           1230                  NaN   \n",
       "4           11/28/2016  0342  001            950                  NaN   \n",
       "\n",
       "  Street Name Street Suffix  ...  Existing Construction Type  \\\n",
       "0       Ellis            St  ...                         3.0   \n",
       "1       Geary            St  ...                         3.0   \n",
       "2     Pacific            Av  ...                         1.0   \n",
       "3     Pacific            Av  ...                         5.0   \n",
       "4      Market            St  ...                         3.0   \n",
       "\n",
       "  Existing Construction Type Description Proposed Construction Type  \\\n",
       "0                          constr type 3                        NaN   \n",
       "1                          constr type 3                        NaN   \n",
       "2                          constr type 1                        1.0   \n",
       "3                         wood frame (5)                        5.0   \n",
       "4                          constr type 3                        NaN   \n",
       "\n",
       "  Proposed Construction Type Description Site Permit Supervisor District  \\\n",
       "0                                    NaN         NaN                 3.0   \n",
       "1                                    NaN         NaN                 3.0   \n",
       "2                          constr type 1         NaN                 3.0   \n",
       "3                         wood frame (5)         NaN                 3.0   \n",
       "4                                    NaN         NaN                 6.0   \n",
       "\n",
       "  Neighborhoods - Analysis Boundaries  Zipcode  \\\n",
       "0                          Tenderloin  94102.0   \n",
       "1                          Tenderloin  94102.0   \n",
       "2                        Russian Hill  94109.0   \n",
       "3                            Nob Hill  94109.0   \n",
       "4                          Tenderloin  94102.0   \n",
       "\n",
       "                                    Location      Record ID  \n",
       "0  (37.785719256680785, -122.40852313194863)  1380611233945  \n",
       "1   (37.78733980600732, -122.41063199757738)  1420164406718  \n",
       "2    (37.7946573324287, -122.42232562979227)  1424856504716  \n",
       "3   (37.79595867909168, -122.41557405519474)  1443574295566  \n",
       "4   (37.78315261897309, -122.40950883997789)   144548169992  \n",
       "\n",
       "[5 rows x 43 columns]"
      ]
     },
     "execution_count": 3,
     "metadata": {},
     "output_type": "execute_result"
    }
   ],
   "source": [
    "sf_permits.head()"
   ]
  },
  {
   "cell_type": "markdown",
   "id": "77366c27",
   "metadata": {
    "papermill": {
     "duration": 0.030044,
     "end_time": "2022-04-15T18:45:33.643001",
     "exception": false,
     "start_time": "2022-04-15T18:45:33.612957",
     "status": "completed"
    },
    "tags": []
   },
   "source": [
    "Does the dataset have any missing values?  Once you have an answer, run the code cell below to get credit for your work."
   ]
  },
  {
   "cell_type": "markdown",
   "id": "9f163840",
   "metadata": {
    "papermill": {
     "duration": 0.029637,
     "end_time": "2022-04-15T18:45:33.702698",
     "exception": false,
     "start_time": "2022-04-15T18:45:33.673061",
     "status": "completed"
    },
    "tags": []
   },
   "source": [
    "Yes,missing values found in dataset."
   ]
  },
  {
   "cell_type": "code",
   "execution_count": 4,
   "id": "d984aa89",
   "metadata": {
    "execution": {
     "iopub.execute_input": "2022-04-15T18:45:33.765543Z",
     "iopub.status.busy": "2022-04-15T18:45:33.764683Z",
     "iopub.status.idle": "2022-04-15T18:45:34.262334Z",
     "shell.execute_reply": "2022-04-15T18:45:34.261499Z"
    },
    "papermill": {
     "duration": 0.531428,
     "end_time": "2022-04-15T18:45:34.264511",
     "exception": false,
     "start_time": "2022-04-15T18:45:33.733083",
     "status": "completed"
    },
    "tags": []
   },
   "outputs": [
    {
     "data": {
      "text/plain": [
       "Permit Number                  0\n",
       "Permit Type                    0\n",
       "Permit Type Definition         0\n",
       "Permit Creation Date           0\n",
       "Block                          0\n",
       "Lot                            0\n",
       "Street Number                  0\n",
       "Street Number Suffix      196684\n",
       "Street Name                    0\n",
       "Street Suffix               2768\n",
       "dtype: int64"
      ]
     },
     "execution_count": 4,
     "metadata": {},
     "output_type": "execute_result"
    }
   ],
   "source": [
    "#missing points in the first ten columns\n",
    "missing_val_cnt = sf_permits.isnull().sum()\n",
    "missing_val_cnt[0:10]"
   ]
  },
  {
   "cell_type": "markdown",
   "id": "76a94b83",
   "metadata": {
    "papermill": {
     "duration": 0.030171,
     "end_time": "2022-04-15T18:45:34.324977",
     "exception": false,
     "start_time": "2022-04-15T18:45:34.294806",
     "status": "completed"
    },
    "tags": []
   },
   "source": [
    "It returns missing points in the first ten columns."
   ]
  },
  {
   "cell_type": "code",
   "execution_count": 5,
   "id": "fdc42588",
   "metadata": {
    "execution": {
     "iopub.execute_input": "2022-04-15T18:45:34.387773Z",
     "iopub.status.busy": "2022-04-15T18:45:34.387110Z",
     "iopub.status.idle": "2022-04-15T18:45:34.394771Z",
     "shell.execute_reply": "2022-04-15T18:45:34.394148Z"
    },
    "papermill": {
     "duration": 0.041134,
     "end_time": "2022-04-15T18:45:34.396502",
     "exception": false,
     "start_time": "2022-04-15T18:45:34.355368",
     "status": "completed"
    },
    "tags": []
   },
   "outputs": [
    {
     "data": {
      "application/javascript": [
       "parent.postMessage({\"jupyterEvent\": \"custom.exercise_interaction\", \"data\": {\"outcomeType\": 1, \"valueTowardsCompletion\": 0.16666666666666666, \"interactionType\": 1, \"questionType\": 4, \"questionId\": \"1_TakeFirstLook\", \"learnToolsVersion\": \"0.3.4\", \"failureMessage\": \"\", \"exceptionClass\": \"\", \"trace\": \"\"}}, \"*\")"
      ],
      "text/plain": [
       "<IPython.core.display.Javascript object>"
      ]
     },
     "metadata": {},
     "output_type": "display_data"
    },
    {
     "data": {
      "text/markdown": [
       "<span style=\"color:#33cc33\">Correct:</span> \n",
       "\n",
       "The first five rows of the data does show that several columns have missing values.  You can see this in the \"Street Number Suffix\", \"Proposed Construction Type\" and \"Site Permit\" columns, among others."
      ],
      "text/plain": [
       "Correct: \n",
       "\n",
       "The first five rows of the data does show that several columns have missing values.  You can see this in the \"Street Number Suffix\", \"Proposed Construction Type\" and \"Site Permit\" columns, among others."
      ]
     },
     "metadata": {},
     "output_type": "display_data"
    }
   ],
   "source": [
    "# Check your answer (Run this code cell to receive credit!)\n",
    "q1.check()"
   ]
  },
  {
   "cell_type": "code",
   "execution_count": 6,
   "id": "4cfa51b7",
   "metadata": {
    "execution": {
     "iopub.execute_input": "2022-04-15T18:45:34.461830Z",
     "iopub.status.busy": "2022-04-15T18:45:34.461416Z",
     "iopub.status.idle": "2022-04-15T18:45:34.464165Z",
     "shell.execute_reply": "2022-04-15T18:45:34.463610Z"
    },
    "papermill": {
     "duration": 0.037908,
     "end_time": "2022-04-15T18:45:34.466046",
     "exception": false,
     "start_time": "2022-04-15T18:45:34.428138",
     "status": "completed"
    },
    "tags": []
   },
   "outputs": [],
   "source": [
    "# Line below will give you a hint\n",
    "#q1.hint()"
   ]
  },
  {
   "cell_type": "markdown",
   "id": "e6f7ff42",
   "metadata": {
    "papermill": {
     "duration": 0.031798,
     "end_time": "2022-04-15T18:45:34.529858",
     "exception": false,
     "start_time": "2022-04-15T18:45:34.498060",
     "status": "completed"
    },
    "tags": []
   },
   "source": [
    "# 2) How many missing data points do we have?\n",
    "\n",
    "What percentage of the values in the dataset are missing?  Your answer should be a number between 0 and 100.  (If 1/4 of the values in the dataset are missing, the answer is 25.)"
   ]
  },
  {
   "cell_type": "code",
   "execution_count": 7,
   "id": "e2a0679f",
   "metadata": {
    "execution": {
     "iopub.execute_input": "2022-04-15T18:45:34.596704Z",
     "iopub.status.busy": "2022-04-15T18:45:34.596117Z",
     "iopub.status.idle": "2022-04-15T18:45:34.605168Z",
     "shell.execute_reply": "2022-04-15T18:45:34.604397Z"
    },
    "papermill": {
     "duration": 0.04414,
     "end_time": "2022-04-15T18:45:34.607092",
     "exception": false,
     "start_time": "2022-04-15T18:45:34.562952",
     "status": "completed"
    },
    "tags": []
   },
   "outputs": [
    {
     "name": "stdout",
     "output_type": "stream",
     "text": [
      "26.26002315058403\n"
     ]
    },
    {
     "data": {
      "application/javascript": [
       "parent.postMessage({\"jupyterEvent\": \"custom.exercise_interaction\", \"data\": {\"outcomeType\": 1, \"valueTowardsCompletion\": 0.16666666666666666, \"interactionType\": 1, \"questionType\": 1, \"questionId\": \"2_PercentMissingValues\", \"learnToolsVersion\": \"0.3.4\", \"failureMessage\": \"\", \"exceptionClass\": \"\", \"trace\": \"\"}}, \"*\")"
      ],
      "text/plain": [
       "<IPython.core.display.Javascript object>"
      ]
     },
     "metadata": {},
     "output_type": "display_data"
    },
    {
     "data": {
      "text/markdown": [
       "<span style=\"color:#33cc33\">Correct</span>"
      ],
      "text/plain": [
       "Correct"
      ]
     },
     "metadata": {},
     "output_type": "display_data"
    }
   ],
   "source": [
    "# TODO: Your code here!\n",
    "tot_cells = np.product(sf_permits.shape)\n",
    "tot_missing = missing_val_cnt.sum()\n",
    "percent_missing = (tot_missing/tot_cells) * 100\n",
    "print(percent_missing)\n",
    "\n",
    "# Check your answer\n",
    "q2.check()"
   ]
  },
  {
   "cell_type": "code",
   "execution_count": 8,
   "id": "3f498e17",
   "metadata": {
    "execution": {
     "iopub.execute_input": "2022-04-15T18:45:34.675634Z",
     "iopub.status.busy": "2022-04-15T18:45:34.675103Z",
     "iopub.status.idle": "2022-04-15T18:45:34.678016Z",
     "shell.execute_reply": "2022-04-15T18:45:34.677491Z"
    },
    "papermill": {
     "duration": 0.039259,
     "end_time": "2022-04-15T18:45:34.679845",
     "exception": false,
     "start_time": "2022-04-15T18:45:34.640586",
     "status": "completed"
    },
    "tags": []
   },
   "outputs": [],
   "source": [
    "# Lines below will give you a hint or solution code\n",
    "#q2.hint()\n",
    "#q2.solution()"
   ]
  },
  {
   "cell_type": "markdown",
   "id": "af3ab5c1",
   "metadata": {
    "papermill": {
     "duration": 0.032882,
     "end_time": "2022-04-15T18:45:34.746838",
     "exception": false,
     "start_time": "2022-04-15T18:45:34.713956",
     "status": "completed"
    },
    "tags": []
   },
   "source": [
    "# 3) Figure out why the data is missing\n",
    "\n",
    "Look at the columns **\"Street Number Suffix\"** and **\"Zipcode\"** from the [San Francisco Building Permits dataset](https://www.kaggle.com/aparnashastry/building-permit-applications-data). Both of these contain missing values. \n",
    "- Which, if either, are missing because they don't exist? \n",
    "- Which, if either, are missing because they weren't recorded?  \n",
    "\n",
    "Once you have an answer, run the code cell below."
   ]
  },
  {
   "cell_type": "code",
   "execution_count": 9,
   "id": "cc90f800",
   "metadata": {
    "execution": {
     "iopub.execute_input": "2022-04-15T18:45:34.816834Z",
     "iopub.status.busy": "2022-04-15T18:45:34.816298Z",
     "iopub.status.idle": "2022-04-15T18:45:35.353444Z",
     "shell.execute_reply": "2022-04-15T18:45:35.352608Z"
    },
    "papermill": {
     "duration": 0.574926,
     "end_time": "2022-04-15T18:45:35.355618",
     "exception": false,
     "start_time": "2022-04-15T18:45:34.780692",
     "status": "completed"
    },
    "tags": []
   },
   "outputs": [
    {
     "data": {
      "text/plain": [
       "Permit Number                  0\n",
       "Permit Type                    0\n",
       "Permit Type Definition         0\n",
       "Permit Creation Date           0\n",
       "Block                          0\n",
       "Lot                            0\n",
       "Street Number                  0\n",
       "Street Number Suffix      196684\n",
       "Street Name                    0\n",
       "Street Suffix               2768\n",
       "dtype: int64"
      ]
     },
     "execution_count": 9,
     "metadata": {},
     "output_type": "execute_result"
    }
   ],
   "source": [
    "subset_sf_permits=sf_permits.loc[:,'Street Number Suffix':'Zipcode'].head()\n",
    "missing_val_cnt = sf_permits.isnull().sum()\n",
    "missing_val_cnt[0:10]\n",
    "\n"
   ]
  },
  {
   "cell_type": "code",
   "execution_count": 10,
   "id": "bbbf352e",
   "metadata": {
    "execution": {
     "iopub.execute_input": "2022-04-15T18:45:35.425097Z",
     "iopub.status.busy": "2022-04-15T18:45:35.424823Z",
     "iopub.status.idle": "2022-04-15T18:45:35.435471Z",
     "shell.execute_reply": "2022-04-15T18:45:35.434469Z"
    },
    "papermill": {
     "duration": 0.048021,
     "end_time": "2022-04-15T18:45:35.437542",
     "exception": false,
     "start_time": "2022-04-15T18:45:35.389521",
     "status": "completed"
    },
    "tags": []
   },
   "outputs": [
    {
     "data": {
      "text/plain": [
       "Street Number Suffix    196684\n",
       "Zipcode                   1716\n",
       "dtype: int64"
      ]
     },
     "execution_count": 10,
     "metadata": {},
     "output_type": "execute_result"
    }
   ],
   "source": [
    "tot_cells = np.product(sf_permits.shape)\n",
    "values = ['Street Number Suffix', 'Zipcode']\n",
    "missing_val_cnt[values]"
   ]
  },
  {
   "cell_type": "markdown",
   "id": "60efb96c",
   "metadata": {
    "papermill": {
     "duration": 0.033477,
     "end_time": "2022-04-15T18:45:35.504890",
     "exception": false,
     "start_time": "2022-04-15T18:45:35.471413",
     "status": "completed"
    },
    "tags": []
   },
   "source": [
    "If a value in the \"Street Number Suffix\" column is missing, it is likely because it does not exist. If a value in the \"Zipcode\" column is missing, it was not recorded."
   ]
  },
  {
   "cell_type": "code",
   "execution_count": 11,
   "id": "c5663c32",
   "metadata": {
    "execution": {
     "iopub.execute_input": "2022-04-15T18:45:35.574766Z",
     "iopub.status.busy": "2022-04-15T18:45:35.573918Z",
     "iopub.status.idle": "2022-04-15T18:45:35.581580Z",
     "shell.execute_reply": "2022-04-15T18:45:35.580711Z"
    },
    "papermill": {
     "duration": 0.044435,
     "end_time": "2022-04-15T18:45:35.583394",
     "exception": false,
     "start_time": "2022-04-15T18:45:35.538959",
     "status": "completed"
    },
    "tags": []
   },
   "outputs": [
    {
     "data": {
      "application/javascript": [
       "parent.postMessage({\"jupyterEvent\": \"custom.exercise_interaction\", \"data\": {\"outcomeType\": 1, \"valueTowardsCompletion\": 0.16666666666666666, \"interactionType\": 1, \"questionType\": 4, \"questionId\": \"3_WhyDataMissing\", \"learnToolsVersion\": \"0.3.4\", \"failureMessage\": \"\", \"exceptionClass\": \"\", \"trace\": \"\"}}, \"*\")"
      ],
      "text/plain": [
       "<IPython.core.display.Javascript object>"
      ]
     },
     "metadata": {},
     "output_type": "display_data"
    },
    {
     "data": {
      "text/markdown": [
       "<span style=\"color:#33cc33\">Correct:</span> \n",
       "\n",
       "If a value in the \"Street Number Suffix\" column is missing, it is likely because it does not exist. If a value in the \"Zipcode\" column is missing, it was not recorded."
      ],
      "text/plain": [
       "Correct: \n",
       "\n",
       "If a value in the \"Street Number Suffix\" column is missing, it is likely because it does not exist. If a value in the \"Zipcode\" column is missing, it was not recorded."
      ]
     },
     "metadata": {},
     "output_type": "display_data"
    }
   ],
   "source": [
    "# Check your answer (Run this code cell to receive credit!)\n",
    "q3.check()"
   ]
  },
  {
   "cell_type": "code",
   "execution_count": 12,
   "id": "78e86c5e",
   "metadata": {
    "execution": {
     "iopub.execute_input": "2022-04-15T18:45:35.655277Z",
     "iopub.status.busy": "2022-04-15T18:45:35.654997Z",
     "iopub.status.idle": "2022-04-15T18:45:35.658385Z",
     "shell.execute_reply": "2022-04-15T18:45:35.657522Z"
    },
    "papermill": {
     "duration": 0.041506,
     "end_time": "2022-04-15T18:45:35.660191",
     "exception": false,
     "start_time": "2022-04-15T18:45:35.618685",
     "status": "completed"
    },
    "tags": []
   },
   "outputs": [],
   "source": [
    "# Line below will give you a hint\n",
    "#q3.hint()"
   ]
  },
  {
   "cell_type": "markdown",
   "id": "76fc31a1",
   "metadata": {
    "papermill": {
     "duration": 0.035552,
     "end_time": "2022-04-15T18:45:35.730660",
     "exception": false,
     "start_time": "2022-04-15T18:45:35.695108",
     "status": "completed"
    },
    "tags": []
   },
   "source": [
    "# 4) Drop missing values: rows\n",
    "\n",
    "If you removed all of the rows of `sf_permits` with missing values, how many rows are left?\n",
    "\n",
    "**Note**: Do not change the value of `sf_permits` when checking this.  "
   ]
  },
  {
   "cell_type": "code",
   "execution_count": 13,
   "id": "58f8c623",
   "metadata": {
    "execution": {
     "iopub.execute_input": "2022-04-15T18:45:35.803434Z",
     "iopub.status.busy": "2022-04-15T18:45:35.803138Z",
     "iopub.status.idle": "2022-04-15T18:45:36.416949Z",
     "shell.execute_reply": "2022-04-15T18:45:36.416177Z"
    },
    "papermill": {
     "duration": 0.653176,
     "end_time": "2022-04-15T18:45:36.419138",
     "exception": false,
     "start_time": "2022-04-15T18:45:35.765962",
     "status": "completed"
    },
    "tags": []
   },
   "outputs": [
    {
     "data": {
      "text/html": [
       "<div>\n",
       "<style scoped>\n",
       "    .dataframe tbody tr th:only-of-type {\n",
       "        vertical-align: middle;\n",
       "    }\n",
       "\n",
       "    .dataframe tbody tr th {\n",
       "        vertical-align: top;\n",
       "    }\n",
       "\n",
       "    .dataframe thead th {\n",
       "        text-align: right;\n",
       "    }\n",
       "</style>\n",
       "<table border=\"1\" class=\"dataframe\">\n",
       "  <thead>\n",
       "    <tr style=\"text-align: right;\">\n",
       "      <th></th>\n",
       "      <th>Permit Number</th>\n",
       "      <th>Permit Type</th>\n",
       "      <th>Permit Type Definition</th>\n",
       "      <th>Permit Creation Date</th>\n",
       "      <th>Block</th>\n",
       "      <th>Lot</th>\n",
       "      <th>Street Number</th>\n",
       "      <th>Street Number Suffix</th>\n",
       "      <th>Street Name</th>\n",
       "      <th>Street Suffix</th>\n",
       "      <th>...</th>\n",
       "      <th>Existing Construction Type</th>\n",
       "      <th>Existing Construction Type Description</th>\n",
       "      <th>Proposed Construction Type</th>\n",
       "      <th>Proposed Construction Type Description</th>\n",
       "      <th>Site Permit</th>\n",
       "      <th>Supervisor District</th>\n",
       "      <th>Neighborhoods - Analysis Boundaries</th>\n",
       "      <th>Zipcode</th>\n",
       "      <th>Location</th>\n",
       "      <th>Record ID</th>\n",
       "    </tr>\n",
       "  </thead>\n",
       "  <tbody>\n",
       "  </tbody>\n",
       "</table>\n",
       "<p>0 rows × 43 columns</p>\n",
       "</div>"
      ],
      "text/plain": [
       "Empty DataFrame\n",
       "Columns: [Permit Number, Permit Type, Permit Type Definition, Permit Creation Date, Block, Lot, Street Number, Street Number Suffix, Street Name, Street Suffix, Unit, Unit Suffix, Description, Current Status, Current Status Date, Filed Date, Issued Date, Completed Date, First Construction Document Date, Structural Notification, Number of Existing Stories, Number of Proposed Stories, Voluntary Soft-Story Retrofit, Fire Only Permit, Permit Expiration Date, Estimated Cost, Revised Cost, Existing Use, Existing Units, Proposed Use, Proposed Units, Plansets, TIDF Compliance, Existing Construction Type, Existing Construction Type Description, Proposed Construction Type, Proposed Construction Type Description, Site Permit, Supervisor District, Neighborhoods - Analysis Boundaries, Zipcode, Location, Record ID]\n",
       "Index: []\n",
       "\n",
       "[0 rows x 43 columns]"
      ]
     },
     "execution_count": 13,
     "metadata": {},
     "output_type": "execute_result"
    }
   ],
   "source": [
    "#TODO: Your code here!\n",
    "\n",
    "sf_permits_copy=sf_permits.copy()\n",
    "sf_permits_copy.dropna()"
   ]
  },
  {
   "cell_type": "markdown",
   "id": "7917cebe",
   "metadata": {
    "papermill": {
     "duration": 0.035833,
     "end_time": "2022-04-15T18:45:36.491658",
     "exception": false,
     "start_time": "2022-04-15T18:45:36.455825",
     "status": "completed"
    },
    "tags": []
   },
   "source": [
    "Once you have an answer, run the code cell below."
   ]
  },
  {
   "cell_type": "code",
   "execution_count": 14,
   "id": "81560175",
   "metadata": {
    "execution": {
     "iopub.execute_input": "2022-04-15T18:45:36.566309Z",
     "iopub.status.busy": "2022-04-15T18:45:36.565967Z",
     "iopub.status.idle": "2022-04-15T18:45:36.573792Z",
     "shell.execute_reply": "2022-04-15T18:45:36.572737Z"
    },
    "papermill": {
     "duration": 0.048243,
     "end_time": "2022-04-15T18:45:36.576059",
     "exception": false,
     "start_time": "2022-04-15T18:45:36.527816",
     "status": "completed"
    },
    "tags": []
   },
   "outputs": [
    {
     "data": {
      "application/javascript": [
       "parent.postMessage({\"jupyterEvent\": \"custom.exercise_interaction\", \"data\": {\"outcomeType\": 1, \"valueTowardsCompletion\": 0.16666666666666666, \"interactionType\": 1, \"questionType\": 4, \"questionId\": \"4_DropMissingRows\", \"learnToolsVersion\": \"0.3.4\", \"failureMessage\": \"\", \"exceptionClass\": \"\", \"trace\": \"\"}}, \"*\")"
      ],
      "text/plain": [
       "<IPython.core.display.Javascript object>"
      ]
     },
     "metadata": {},
     "output_type": "display_data"
    },
    {
     "data": {
      "text/markdown": [
       "<span style=\"color:#33cc33\">Correct:</span> \n",
       "\n",
       "There are no rows remaining in the dataset!"
      ],
      "text/plain": [
       "Correct: \n",
       "\n",
       "There are no rows remaining in the dataset!"
      ]
     },
     "metadata": {},
     "output_type": "display_data"
    }
   ],
   "source": [
    "# Check your answer (Run this code cell to receive credit!)\n",
    "q4.check()"
   ]
  },
  {
   "cell_type": "code",
   "execution_count": 15,
   "id": "698413ea",
   "metadata": {
    "execution": {
     "iopub.execute_input": "2022-04-15T18:45:36.652727Z",
     "iopub.status.busy": "2022-04-15T18:45:36.652441Z",
     "iopub.status.idle": "2022-04-15T18:45:36.655330Z",
     "shell.execute_reply": "2022-04-15T18:45:36.654616Z"
    },
    "papermill": {
     "duration": 0.043377,
     "end_time": "2022-04-15T18:45:36.657174",
     "exception": false,
     "start_time": "2022-04-15T18:45:36.613797",
     "status": "completed"
    },
    "tags": []
   },
   "outputs": [],
   "source": [
    "# Line below will give you a hint\n",
    "#q4.hint()"
   ]
  },
  {
   "cell_type": "markdown",
   "id": "49264f80",
   "metadata": {
    "papermill": {
     "duration": 0.037196,
     "end_time": "2022-04-15T18:45:36.732700",
     "exception": false,
     "start_time": "2022-04-15T18:45:36.695504",
     "status": "completed"
    },
    "tags": []
   },
   "source": [
    "# 5) Drop missing values: columns\n",
    "\n",
    "Now try removing all the columns with empty values.  \n",
    "- Create a new DataFrame called `sf_permits_with_na_dropped` that has all of the columns with empty values removed.  \n",
    "- How many columns were removed from the original `sf_permits` DataFrame? Use this number to set the value of the `dropped_columns` variable below."
   ]
  },
  {
   "cell_type": "code",
   "execution_count": 16,
   "id": "57d4d0dc",
   "metadata": {
    "execution": {
     "iopub.execute_input": "2022-04-15T18:45:36.808303Z",
     "iopub.status.busy": "2022-04-15T18:45:36.807983Z",
     "iopub.status.idle": "2022-04-15T18:45:37.323848Z",
     "shell.execute_reply": "2022-04-15T18:45:37.322760Z"
    },
    "papermill": {
     "duration": 0.55673,
     "end_time": "2022-04-15T18:45:37.326401",
     "exception": false,
     "start_time": "2022-04-15T18:45:36.769671",
     "status": "completed"
    },
    "tags": []
   },
   "outputs": [
    {
     "name": "stdout",
     "output_type": "stream",
     "text": [
      "Columns in original dataset: 43 \n",
      "\n",
      "Columns with na's dropped: 12\n"
     ]
    }
   ],
   "source": [
    "sf_permits_with_na_dropped= sf_permits.dropna(axis=1)\n",
    "print(\"Columns in original dataset: %d \\n\" % sf_permits.shape[1])\n",
    "print(\"Columns with na's dropped: %d\" % sf_permits_with_na_dropped.shape[1])\n",
    "\n",
    "dropped_columns=sf_permits.shape[1]-sf_permits_with_na_dropped.shape[1]"
   ]
  },
  {
   "cell_type": "code",
   "execution_count": 17,
   "id": "d192a2d5",
   "metadata": {
    "execution": {
     "iopub.execute_input": "2022-04-15T18:45:37.408370Z",
     "iopub.status.busy": "2022-04-15T18:45:37.408063Z",
     "iopub.status.idle": "2022-04-15T18:45:37.417384Z",
     "shell.execute_reply": "2022-04-15T18:45:37.416433Z"
    },
    "papermill": {
     "duration": 0.050457,
     "end_time": "2022-04-15T18:45:37.419488",
     "exception": false,
     "start_time": "2022-04-15T18:45:37.369031",
     "status": "completed"
    },
    "tags": []
   },
   "outputs": [
    {
     "data": {
      "application/javascript": [
       "parent.postMessage({\"jupyterEvent\": \"custom.exercise_interaction\", \"data\": {\"outcomeType\": 1, \"valueTowardsCompletion\": 0.16666666666666666, \"interactionType\": 1, \"questionType\": 1, \"questionId\": \"5_DropMissingCols\", \"learnToolsVersion\": \"0.3.4\", \"failureMessage\": \"\", \"exceptionClass\": \"\", \"trace\": \"\"}}, \"*\")"
      ],
      "text/plain": [
       "<IPython.core.display.Javascript object>"
      ]
     },
     "metadata": {},
     "output_type": "display_data"
    },
    {
     "data": {
      "text/markdown": [
       "<span style=\"color:#33cc33\">Correct</span>"
      ],
      "text/plain": [
       "Correct"
      ]
     },
     "metadata": {},
     "output_type": "display_data"
    }
   ],
   "source": [
    "# Lines below will give you a hint or solution code\n",
    "q5.check()\n",
    "#q5.hint()\n",
    "#q5.solution()"
   ]
  },
  {
   "cell_type": "markdown",
   "id": "4eb4a674",
   "metadata": {
    "papermill": {
     "duration": 0.038352,
     "end_time": "2022-04-15T18:45:37.496600",
     "exception": false,
     "start_time": "2022-04-15T18:45:37.458248",
     "status": "completed"
    },
    "tags": []
   },
   "source": [
    "# 6) Fill in missing values automatically\n",
    "\n",
    "Try replacing all the NaN's in the `sf_permits` data with the one that comes directly after it and then replacing any remaining NaN's with 0.  Set the result to a new DataFrame `sf_permits_with_na_imputed`."
   ]
  },
  {
   "cell_type": "code",
   "execution_count": 18,
   "id": "1430ca91",
   "metadata": {
    "execution": {
     "iopub.execute_input": "2022-04-15T18:45:37.575665Z",
     "iopub.status.busy": "2022-04-15T18:45:37.575408Z",
     "iopub.status.idle": "2022-04-15T18:45:39.071461Z",
     "shell.execute_reply": "2022-04-15T18:45:39.070590Z"
    },
    "papermill": {
     "duration": 1.538179,
     "end_time": "2022-04-15T18:45:39.073564",
     "exception": false,
     "start_time": "2022-04-15T18:45:37.535385",
     "status": "completed"
    },
    "tags": []
   },
   "outputs": [
    {
     "data": {
      "application/javascript": [
       "parent.postMessage({\"jupyterEvent\": \"custom.exercise_interaction\", \"data\": {\"outcomeType\": 1, \"valueTowardsCompletion\": 0.16666666666666666, \"interactionType\": 1, \"questionType\": 1, \"questionId\": \"6_ImputeAutomatically\", \"learnToolsVersion\": \"0.3.4\", \"failureMessage\": \"\", \"exceptionClass\": \"\", \"trace\": \"\"}}, \"*\")"
      ],
      "text/plain": [
       "<IPython.core.display.Javascript object>"
      ]
     },
     "metadata": {},
     "output_type": "display_data"
    },
    {
     "data": {
      "text/markdown": [
       "<span style=\"color:#33cc33\">Correct</span>"
      ],
      "text/plain": [
       "Correct"
      ]
     },
     "metadata": {},
     "output_type": "display_data"
    }
   ],
   "source": [
    "sf_permits_with_na_imputed = sf_permits.fillna(method='bfill',axis = 0).fillna(0)\n",
    "q6.check()\n"
   ]
  },
  {
   "cell_type": "code",
   "execution_count": 19,
   "id": "e7913b67",
   "metadata": {
    "execution": {
     "iopub.execute_input": "2022-04-15T18:45:39.154917Z",
     "iopub.status.busy": "2022-04-15T18:45:39.154613Z",
     "iopub.status.idle": "2022-04-15T18:45:39.157668Z",
     "shell.execute_reply": "2022-04-15T18:45:39.157032Z"
    },
    "papermill": {
     "duration": 0.045611,
     "end_time": "2022-04-15T18:45:39.159376",
     "exception": false,
     "start_time": "2022-04-15T18:45:39.113765",
     "status": "completed"
    },
    "tags": []
   },
   "outputs": [],
   "source": [
    "# Lines below will give you a hint or solution code\n",
    "#q6.hint()\n",
    "#q6.solution()"
   ]
  },
  {
   "cell_type": "markdown",
   "id": "28bd1fe0",
   "metadata": {
    "papermill": {
     "duration": 0.03927,
     "end_time": "2022-04-15T18:45:39.240644",
     "exception": false,
     "start_time": "2022-04-15T18:45:39.201374",
     "status": "completed"
    },
    "tags": []
   },
   "source": [
    "# More practice\n",
    "\n",
    "If you're looking for more practice handling missing values:\n",
    "\n",
    "* Check out [this noteboook](https://www.kaggle.com/alexisbcook/missing-values) on handling missing values using scikit-learn's imputer. \n",
    "* Look back at the \"Zipcode\" column in the `sf_permits` dataset, which has some missing values. How would you go about figuring out what the actual zipcode of each address should be? (You might try using another dataset. You can search for datasets about San Fransisco on the [Datasets listing](https://www.kaggle.com/datasets).) \n",
    "\n",
    "# Keep going\n",
    "\n",
    "In the next lesson, learn how to [**apply scaling and normalization**](https://www.kaggle.com/alexisbcook/scaling-and-normalization) to transform your data."
   ]
  },
  {
   "cell_type": "markdown",
   "id": "4b034f17",
   "metadata": {
    "papermill": {
     "duration": 0.040274,
     "end_time": "2022-04-15T18:45:39.320318",
     "exception": false,
     "start_time": "2022-04-15T18:45:39.280044",
     "status": "completed"
    },
    "tags": []
   },
   "source": [
    "---\n",
    "\n",
    "\n",
    "\n",
    "\n",
    "*Have questions or comments? Visit the [course discussion forum](https://www.kaggle.com/learn/data-cleaning/discussion) to chat with other learners.*"
   ]
  }
 ],
 "metadata": {
  "kernelspec": {
   "display_name": "Python 3",
   "language": "python",
   "name": "python3"
  },
  "language_info": {
   "codemirror_mode": {
    "name": "ipython",
    "version": 3
   },
   "file_extension": ".py",
   "mimetype": "text/x-python",
   "name": "python",
   "nbconvert_exporter": "python",
   "pygments_lexer": "ipython3",
   "version": "3.7.12"
  },
  "papermill": {
   "default_parameters": {},
   "duration": 24.075323,
   "end_time": "2022-04-15T18:45:40.180753",
   "environment_variables": {},
   "exception": null,
   "input_path": "__notebook__.ipynb",
   "output_path": "__notebook__.ipynb",
   "parameters": {},
   "start_time": "2022-04-15T18:45:16.105430",
   "version": "2.3.4"
  }
 },
 "nbformat": 4,
 "nbformat_minor": 5
}
